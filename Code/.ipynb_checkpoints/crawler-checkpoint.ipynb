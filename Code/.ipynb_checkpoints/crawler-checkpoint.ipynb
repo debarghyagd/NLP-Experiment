{
 "cells": [
  {
   "cell_type": "code",
   "execution_count": null,
   "metadata": {},
   "outputs": [],
   "source": [
    "# !pip3 -q install requests beautifulsoup4 lxml openpyxl tqdm ipywidgets pyphen syllapy"
   ]
  },
  {
   "cell_type": "code",
   "execution_count": 255,
   "metadata": {},
   "outputs": [],
   "source": [
    "import requests as re\n",
    "from bs4 import BeautifulSoup\n",
    "import pandas as pd\n",
    "from tqdm.notebook import trange\n",
    "import nltk\n",
    "from nltk import sent_tokenize,word_tokenize,wordpunct_tokenize,RegexpTokenizer\n",
    "from nltk.corpus import stopwords\n",
    "import syllapy as sp\n",
    "import os\n",
    "# nltk.download('stopwords')\n",
    "# nltk.download('punkt')\n",
    "# nltk.download('cmudict')"
   ]
  },
  {
   "cell_type": "code",
   "execution_count": null,
   "metadata": {},
   "outputs": [],
   "source": [
    "df = pd.read_excel('../Input.xlsx')\n",
    "err_url_id_new= []\n",
    "titles, contents = [],[]\n",
    "for i in trange(df.shape[0], desc='Progress: '):\n",
    "    try:\n",
    "        resp = re.get(df.iloc[i].URL)\n",
    "        if resp.status_code == 200:\n",
    "            soup = BeautifulSoup(resp.text,'html.parser')\n",
    "            title, content = soup.find('h1', class_='entry-title'),soup.find('div', class_='td-post-content tagdiv-type')\n",
    "            if not (title and content):\n",
    "                title, content = soup.find('h1', class_='tdb-title-text'),soup.find('div', class_='td_block_wrap tdb_single_content tdi_130 td-pb-border-top td_block_template_1 td-post-content tagdiv-type').find('div', class_='tdb-block-inner td-fix-index')\n",
    "            title, content = title.get_text(), ' '.join(content.get_text().strip('\\n').split('\\n')[:-1])\n",
    "            titles.append(title)\n",
    "            contents.append(content)\n",
    "        else:\n",
    "            titles.append(resp.status_code)\n",
    "            contents.append(resp.status_code)\n",
    "    except Exception as e:\n",
    "        err_url_id_new.append(df.iloc[i].URL_ID)\n",
    "        print(f'Error: {e}, in URL: {df.iloc[i].URL} (ID: {df.iloc[i].URL_ID})')\n",
    "\n",
    "df['TITLE'] = titles\n",
    "df['CONTENT'] = contents\n",
    "df.to_csv('Dataframe.csv',index=False)"
   ]
  },
  {
   "cell_type": "code",
   "execution_count": 257,
   "metadata": {},
   "outputs": [],
   "source": [
    "sw_nltk = stopwords.words('english')\n",
    "\n",
    "\n",
    "with open('../StopWords/StopWords_Auditor.txt','r') as StopWords_Auditor:\n",
    "    sw_auditor = [i.split('|')[0].strip().lower() for i in StopWords_Auditor.readlines()]\n",
    "\n",
    "with open('../StopWords/StopWords_DatesandNumbers.txt','r') as StopWords_DatesandNumbers:\n",
    "    sw_datesandnumbers = [i.split('|')[0].strip().lower() for i in StopWords_DatesandNumbers.readlines()]\n",
    "\n",
    "with open('../StopWords/StopWords_Generic.txt','r') as StopWords_Generic:\n",
    "    sw_generic = [i.split('|')[0].strip().lower() for i in StopWords_Generic.readlines()]\n",
    "\n",
    "with open('../StopWords/StopWords_GenericLong.txt','r') as StopWords_GenericLong:\n",
    "    sw_genericlong = [i.split('|')[0].strip().lower() for i in StopWords_GenericLong.readlines()]\n",
    "\n",
    "with open('../StopWords/StopWords_Geographic.txt','r') as StopWords_Geographic:\n",
    "    sw_geographic = [i.split('|')[0].strip().lower() for i in StopWords_Geographic.readlines()]\n",
    "\n",
    "with open('../StopWords/StopWords_Names.txt','r') as StopWords_Names:\n",
    "    sw_names = [i.split('|')[0].strip().lower() for i in StopWords_Names.readlines()]\n",
    "\n",
    "with open('../StopWords/StopWords_Currencies.txt', 'r') as StopWords_Names:\n",
    "    sw_currencies = [i.split('|')[0].strip().lower() for i in StopWords_Names.readlines()]\n",
    "\n",
    "pw_all = [\"i\", \"you\", \"he\", \"she\", \"it\", \"we\", \"they\", \"them\", \"us\", \"him\", \"her\", \"his\", \"hers\", \"its\", \"theirs\", \"our\", \"your\"]\n",
    "sw_all = set(sw_auditor + sw_datesandnumbers + sw_generic + sw_genericlong + sw_geographic + sw_names + sw_names + sw_currencies + sw_nltk).difference(set(pw_all))\n",
    "\n",
    "\n",
    "\n",
    "with open('../MasterDictionary/positive-words.txt') as positive_words_txt:\n",
    "    positive_words = [i.strip('\\n') for i in positive_words_txt.readlines()]\n",
    "\n",
    "with open('../MasterDictionary/negative-words.txt') as negative_words_txt:\n",
    "    negative_words = [i.strip('\\n') for i in negative_words_txt.readlines()]"
   ]
  },
  {
   "cell_type": "code",
   "execution_count": 263,
   "metadata": {},
   "outputs": [
    {
     "data": {
      "text/plain": [
       "True"
      ]
     },
     "execution_count": 263,
     "metadata": {},
     "output_type": "execute_result"
    }
   ],
   "source": [
    "PATH = '../StopWords'\n",
    "sw_x = []\n",
    "for FILE in os.listdir(PATH):\n",
    "    with open(os.path.join(PATH,FILE), 'r') as F:\n",
    "        sw_x += [i.split('|')[0].strip().lower() for i in F.readlines()]\n",
    "sw_x = set(sw_x + sw_nltk).difference(set(pw_all))\n",
    "sw_x == sw_all"
   ]
  },
  {
   "cell_type": "code",
   "execution_count": 153,
   "metadata": {},
   "outputs": [
    {
     "data": {
      "text/html": [
       "<div>\n",
       "<style scoped>\n",
       "    .dataframe tbody tr th:only-of-type {\n",
       "        vertical-align: middle;\n",
       "    }\n",
       "\n",
       "    .dataframe tbody tr th {\n",
       "        vertical-align: top;\n",
       "    }\n",
       "\n",
       "    .dataframe thead th {\n",
       "        text-align: right;\n",
       "    }\n",
       "</style>\n",
       "<table border=\"1\" class=\"dataframe\">\n",
       "  <thead>\n",
       "    <tr style=\"text-align: right;\">\n",
       "      <th></th>\n",
       "      <th>URL_ID</th>\n",
       "      <th>URL</th>\n",
       "      <th>TITLE</th>\n",
       "      <th>CONTENT</th>\n",
       "    </tr>\n",
       "  </thead>\n",
       "  <tbody>\n",
       "    <tr>\n",
       "      <th>0</th>\n",
       "      <td>123.0</td>\n",
       "      <td>https://insights.blackcoffer.com/rise-of-telem...</td>\n",
       "      <td>Rise of telemedicine and its Impact on Livelih...</td>\n",
       "      <td>Telemedicine, the use of technology to diagnos...</td>\n",
       "    </tr>\n",
       "    <tr>\n",
       "      <th>1</th>\n",
       "      <td>321.0</td>\n",
       "      <td>https://insights.blackcoffer.com/rise-of-e-hea...</td>\n",
       "      <td>Rise of e-health and its impact on humans by t...</td>\n",
       "      <td>The rise of e-health, or the use of electronic...</td>\n",
       "    </tr>\n",
       "    <tr>\n",
       "      <th>2</th>\n",
       "      <td>2345.0</td>\n",
       "      <td>https://insights.blackcoffer.com/rise-of-e-hea...</td>\n",
       "      <td>Rise of e-health and its impact on humans by t...</td>\n",
       "      <td>2020 was the year the world was ravaged by the...</td>\n",
       "    </tr>\n",
       "    <tr>\n",
       "      <th>3</th>\n",
       "      <td>4321.0</td>\n",
       "      <td>https://insights.blackcoffer.com/rise-of-telem...</td>\n",
       "      <td>Rise of telemedicine and its Impact on Livelih...</td>\n",
       "      <td>“More gains on quality, affordability and acce...</td>\n",
       "    </tr>\n",
       "    <tr>\n",
       "      <th>4</th>\n",
       "      <td>432.0</td>\n",
       "      <td>https://insights.blackcoffer.com/rise-of-telem...</td>\n",
       "      <td>Rise of telemedicine and its Impact on Livelih...</td>\n",
       "      <td>“More gains on quality, affordability and acce...</td>\n",
       "    </tr>\n",
       "    <tr>\n",
       "      <th>...</th>\n",
       "      <td>...</td>\n",
       "      <td>...</td>\n",
       "      <td>...</td>\n",
       "      <td>...</td>\n",
       "    </tr>\n",
       "    <tr>\n",
       "      <th>109</th>\n",
       "      <td>50921.0</td>\n",
       "      <td>https://insights.blackcoffer.com/coronavirus-i...</td>\n",
       "      <td>Coronavirus: Impact on the Hospitality Industry</td>\n",
       "      <td>Before jumping on the topic I would like to gi...</td>\n",
       "    </tr>\n",
       "    <tr>\n",
       "      <th>110</th>\n",
       "      <td>51382.8</td>\n",
       "      <td>https://insights.blackcoffer.com/coronavirus-i...</td>\n",
       "      <td>Coronavirus impact on energy markets</td>\n",
       "      <td>As the coronavirus spreads around the world an...</td>\n",
       "    </tr>\n",
       "    <tr>\n",
       "      <th>111</th>\n",
       "      <td>51844.6</td>\n",
       "      <td>https://insights.blackcoffer.com/what-are-the-...</td>\n",
       "      <td>What are the key policies that will mitigate t...</td>\n",
       "      <td>From Alibaba to Ping An and Google to Ford, co...</td>\n",
       "    </tr>\n",
       "    <tr>\n",
       "      <th>112</th>\n",
       "      <td>52306.4</td>\n",
       "      <td>https://insights.blackcoffer.com/marketing-dri...</td>\n",
       "      <td>Marketing Drives Results With A Focus On Problems</td>\n",
       "      <td>When the British ruled India, many Indians acc...</td>\n",
       "    </tr>\n",
       "    <tr>\n",
       "      <th>113</th>\n",
       "      <td>52768.2</td>\n",
       "      <td>https://insights.blackcoffer.com/continued-dem...</td>\n",
       "      <td>Continued Demand for Sustainability</td>\n",
       "      <td>The business of business is no longer to do ju...</td>\n",
       "    </tr>\n",
       "  </tbody>\n",
       "</table>\n",
       "<p>114 rows × 4 columns</p>\n",
       "</div>"
      ],
      "text/plain": [
       "      URL_ID                                                URL  \\\n",
       "0      123.0  https://insights.blackcoffer.com/rise-of-telem...   \n",
       "1      321.0  https://insights.blackcoffer.com/rise-of-e-hea...   \n",
       "2     2345.0  https://insights.blackcoffer.com/rise-of-e-hea...   \n",
       "3     4321.0  https://insights.blackcoffer.com/rise-of-telem...   \n",
       "4      432.0  https://insights.blackcoffer.com/rise-of-telem...   \n",
       "..       ...                                                ...   \n",
       "109  50921.0  https://insights.blackcoffer.com/coronavirus-i...   \n",
       "110  51382.8  https://insights.blackcoffer.com/coronavirus-i...   \n",
       "111  51844.6  https://insights.blackcoffer.com/what-are-the-...   \n",
       "112  52306.4  https://insights.blackcoffer.com/marketing-dri...   \n",
       "113  52768.2  https://insights.blackcoffer.com/continued-dem...   \n",
       "\n",
       "                                                 TITLE  \\\n",
       "0    Rise of telemedicine and its Impact on Livelih...   \n",
       "1    Rise of e-health and its impact on humans by t...   \n",
       "2    Rise of e-health and its impact on humans by t...   \n",
       "3    Rise of telemedicine and its Impact on Livelih...   \n",
       "4    Rise of telemedicine and its Impact on Livelih...   \n",
       "..                                                 ...   \n",
       "109    Coronavirus: Impact on the Hospitality Industry   \n",
       "110               Coronavirus impact on energy markets   \n",
       "111  What are the key policies that will mitigate t...   \n",
       "112  Marketing Drives Results With A Focus On Problems   \n",
       "113                Continued Demand for Sustainability   \n",
       "\n",
       "                                               CONTENT  \n",
       "0    Telemedicine, the use of technology to diagnos...  \n",
       "1    The rise of e-health, or the use of electronic...  \n",
       "2    2020 was the year the world was ravaged by the...  \n",
       "3    “More gains on quality, affordability and acce...  \n",
       "4    “More gains on quality, affordability and acce...  \n",
       "..                                                 ...  \n",
       "109  Before jumping on the topic I would like to gi...  \n",
       "110  As the coronavirus spreads around the world an...  \n",
       "111  From Alibaba to Ping An and Google to Ford, co...  \n",
       "112  When the British ruled India, many Indians acc...  \n",
       "113  The business of business is no longer to do ju...  \n",
       "\n",
       "[114 rows x 4 columns]"
      ]
     },
     "execution_count": 153,
     "metadata": {},
     "output_type": "execute_result"
    }
   ],
   "source": [
    "df =  pd.read_csv('Dataframe.csv')\n",
    "df"
   ]
  },
  {
   "cell_type": "code",
   "execution_count": 181,
   "metadata": {
    "scrolled": true
   },
   "outputs": [],
   "source": [
    "# collection = set()\n",
    "# for i in trange(df.shape[0], desc='Progress: '):\n",
    "#     collection.add(df.TITLE.loc[i][-1]) \n",
    "    # if 'US' in RegexpTokenizer(r'\\w+').tokenize(df.TITLE.loc[i]+'. '+df.CONTENT.loc[i]):\n",
    "#         print(i)\n",
    "    # print('tokenised',i)\n",
    "    # sw_filtered_text = [j for j in tokenized_text if j.lower not in sw_all]\n",
    "    # print('filtered', i)\n",
    "    # print(set([i.lower() for i in tokenized_text]).intersection(sw_all))\n",
    "    # print()\n",
    "    # print(set([i.lower() for i in tokenized_text]).intersection(sw_nltk))\n",
    "    # print()\n",
    "    # print()\n",
    "# print(collection)"
   ]
  },
  {
   "cell_type": "code",
   "execution_count": 203,
   "metadata": {
    "scrolled": true
   },
   "outputs": [
    {
     "data": {
      "text/plain": [
       "'Oil prices by the year 2040, and how it will impact the world economy. We are in an interconnected world. Any change in one part of the world will always lead to some #changes in other parts of the world as well, maybe a bit later but surely there will be some change and that is what we are seeing in today’s world. Electric vehicles are the change that we are seeing in today’s world. With so many advancements in technology, economies are getting bigger. China might surpass the US and become a #superpower, we will have India inching towards a 15 trillion economy by 2040 and there will be competition among themselves to outshine the other. We are also seeing a paradigm shift toward a more multipolar world from a unipolar world where powers are moving towards certain clusters of the world and everyone wants to be a part of these clusters. But in all these rearrangements taking place. We are in a way creating a better and more sustainable life for our present as well as our future generations.\\xa0 We have witnessed the COP26 where we saw leaders of top countries taking pledges to create a more sustainable future and the answer lies in a safer and greener planet and electric vehicles occupy a huge chunk of it. Internal combustion engines have already peaked, and electric vehicles are getting cheaper and cheaper as governments of every country are actively pushing for electric vehicles as we have seen the joint statement in Cop 26 that “As business fleet owners and operators, or shared mobility platforms, we will work towards 100% of our car and van fleets being zero emission vehicles by 2030, or earlier”. This is a step towards the future. India which is home to a large number of two-wheelers and three-wheelers constitutes more than 70% of global sales and more than 80% in India is also a signatory to this statement. \\xa0\\xa0And if we analyze it properly- crude oil, coal, and gas are the most demanded natural resource still in the world. But it’s not free and with the latest scenarios in and around the world, it’s #better to switch to a more safe, efficient, and affordable electric vehicle. If we look at the economic aspects of electric vehicles, it will surely improve the livelihood of society and in turn the world. EVs are on track to rise to 20% of China’s total market by 2025, up from 6% in 2020, and to 37% in the EU, from 11% last year. In the U.S., they are forecast to reach 10% by 2025. India is also not lagging. India’s EV market is still nascent and is forecast to record a 2.4% CAGR from 2020 to 2025. Electrification is expected to penetrate cars and last-mile connectivity modes like two-wheelers in India by 2030. It is expected about 70% of two-wheeler fleets and 30% of private two-wheelers to be electric by 2030. For passenger vehicles, 40% of fleets and 15%-20% of private cars will be electric by that time.\\xa0 There are also different steps taken by the government like #tax exemptions, schemes like PLI, FAME, and battery swapping policy. We must also note that it is estimated that around 10 million direct jobs will be created and indirectly almost 50 million jobs will be created around this sector. If we look at the global picture we are also seeing that there is a price parity between battery vehicles and ICE vehicles and with so many advancements in technology we are seeing the prices of batteries coming down with more players getting involved in it with prices estimated to be further down. As a world leader, countries like China and the USA are in a race to build more lithium-ion batteries so that they are self-sufficient and have the capabilities to further rise to the occasion of being a major exporters in the world. The European Union is also not lagging as they are also trying to catch up by producing enough batteries to be self-sufficient by 2025.   Crude oils are increasing day by day. We have seen a shortage of gas in European countries mainly due to the Russia- Ukraine war and everybody is trying to find an alternative to gas and crude oil as it is harmful and it’s one of the main reasons why pollution is such a havoc in the world. One of the major problems of Crude oils is oil spilling which is endangering marine species. Air pollution caused due to petrol and diesel vehicles is also affecting our planet and if there is less oil then there is less pollution as alternative drivetrains, fuel economy, and shared mobility will impact oil demand; however, nations still won’t reach net-zero by 2050 without doing more. Coal is also a great contributor to this pollution Environmental impacts associated with using coal as an energy source are particulate emission, ground-level ozone, smog, and acid rain. Coal and fuel oil combustion emit fly ash particles into the atmosphere, which contribute to air pollution problems. Though it is said that prices of crude oil haven’t peaked yet, they will surely peak by 2040. So, we need to foresee the future to have an alternative in society though we still can’t reach a complete outwash of oil in 2050 we\\xa0can make sure that other alternatives are ready and self-sufficient. Well, job opportunities are also a major reason why we should consider EVs as our future. We realize that the max range of an electric vehicle will be around 350-390 km so people need to stop somewhere to recharge their batteries for at least 40-50 minutes which can provide a time frame in which people can avail restaurants explore shopping complexes and what not. This will help in generating employment opportunities in #hubs like these. There is also a rush in countries like China, the USA, and the European Union to build charging stations like this which will accelerate the process of EV vehicles. In this fast, paced world almost every alternative family is having a car but if public vehicles like buses and trains can be changed into electric vehicles this can boost the economy as a whole by creating greater needs with more opportunities in these sectors such as transportation and communication are very much a building block of today’s nation-building process.\\xa0 However, if we are talking about a world that is greener and fitter we must realize and understand that Electric vehicles do have a cost to this planet. There is a huge amount of electric waste which is not so concerning in today’s world. It might be a concern in the world we are all planning to live in. Electric vehicles and batteries need rare materials which are not easy to find. Electronic waste, also known as e-waste, is any electronic product, or product containing electronic components, that has reached the end of its usable life cycle. Unbeknownst to many consumers, electronics contain toxic substances – therefore they must be handled with care when no longer wanted or needed. There are also negative effects on soil When the improper disposal of e-waste in regular landfills or in places where it is dumped illegally, both heavy metals and flame retardants can seep directly from the e-waste into the soil, causing contamination of underlying groundwater or contamination of crops that may be planted nearby or in the area in the future. Therefore, we must also not only focus on solely electric vehicles but also on other kinds of fuels like green hydrogen fuels like ethanol which can be generated from agricultural waste. Companies play an important part in this change. Rather than making it only electric, they should try to make vehicles that are hybrid in nature. They can switch engines so that they are ready to switch from petrol or diesel to green hydrogen and ethanol and also to electric vehicles. The future is now…It’s time to act!\\xa0\\xa0'"
      ]
     },
     "execution_count": 203,
     "metadata": {},
     "output_type": "execute_result"
    }
   ],
   "source": [
    "title = df.TITLE.loc[15]\n",
    "content = df.CONTENT.loc[15]\n",
    "if title[-1] in ['.','?','','!']:\n",
    "    text = title +' '+content\n",
    "else:\n",
    "    text = title +'. '+content\n",
    "text"
   ]
  },
  {
   "cell_type": "code",
   "execution_count": 204,
   "metadata": {
    "scrolled": true
   },
   "outputs": [
    {
     "name": "stdout",
     "output_type": "stream",
     "text": [
      "[['Oil', 'prices', 'by', 'the', 'year', '2040', 'and', 'how', 'it', 'will', 'impact', 'the', 'world', 'economy'], ['We', 'are', 'in', 'an', 'interconnected', 'world'], ['Any', 'change', 'in', 'one', 'part', 'of', 'the', 'world', 'will', 'always', 'lead', 'to', 'some', 'changes', 'in', 'other', 'parts', 'of', 'the', 'world', 'as', 'well', 'maybe', 'a', 'bit', 'later', 'but', 'surely', 'there', 'will', 'be', 'some', 'change', 'and', 'that', 'is', 'what', 'we', 'are', 'seeing', 'in', 'today', 's', 'world'], ['Electric', 'vehicles', 'are', 'the', 'change', 'that', 'we', 'are', 'seeing', 'in', 'today', 's', 'world'], ['With', 'so', 'many', 'advancements', 'in', 'technology', 'economies', 'are', 'getting', 'bigger'], ['China', 'might', 'surpass', 'the', 'US', 'and', 'become', 'a', 'superpower', 'we', 'will', 'have', 'India', 'inching', 'towards', 'a', '15', 'trillion', 'economy', 'by', '2040', 'and', 'there', 'will', 'be', 'competition', 'among', 'themselves', 'to', 'outshine', 'the', 'other'], ['We', 'are', 'also', 'seeing', 'a', 'paradigm', 'shift', 'toward', 'a', 'more', 'multipolar', 'world', 'from', 'a', 'unipolar', 'world', 'where', 'powers', 'are', 'moving', 'towards', 'certain', 'clusters', 'of', 'the', 'world', 'and', 'everyone', 'wants', 'to', 'be', 'a', 'part', 'of', 'these', 'clusters'], ['But', 'in', 'all', 'these', 'rearrangements', 'taking', 'place'], ['We', 'are', 'in', 'a', 'way', 'creating', 'a', 'better', 'and', 'more', 'sustainable', 'life', 'for', 'our', 'present', 'as', 'well', 'as', 'our', 'future', 'generations'], ['We', 'have', 'witnessed', 'the', 'COP26', 'where', 'we', 'saw', 'leaders', 'of', 'top', 'countries', 'taking', 'pledges', 'to', 'create', 'a', 'more', 'sustainable', 'future', 'and', 'the', 'answer', 'lies', 'in', 'a', 'safer', 'and', 'greener', 'planet', 'and', 'electric', 'vehicles', 'occupy', 'a', 'huge', 'chunk', 'of', 'it'], ['Internal', 'combustion', 'engines', 'have', 'already', 'peaked', 'and', 'electric', 'vehicles', 'are', 'getting', 'cheaper', 'and', 'cheaper', 'as', 'governments', 'of', 'every', 'country', 'are', 'actively', 'pushing', 'for', 'electric', 'vehicles', 'as', 'we', 'have', 'seen', 'the', 'joint', 'statement', 'in', 'Cop', '26', 'that', 'As', 'business', 'fleet', 'owners', 'and', 'operators', 'or', 'shared', 'mobility', 'platforms', 'we', 'will', 'work', 'towards', '100', 'of', 'our', 'car', 'and', 'van', 'fleets', 'being', 'zero', 'emission', 'vehicles', 'by', '2030', 'or', 'earlier'], ['This', 'is', 'a', 'step', 'towards', 'the', 'future'], ['India', 'which', 'is', 'home', 'to', 'a', 'large', 'number', 'of', 'two', 'wheelers', 'and', 'three', 'wheelers', 'constitutes', 'more', 'than', '70', 'of', 'global', 'sales', 'and', 'more', 'than', '80', 'in', 'India', 'is', 'also', 'a', 'signatory', 'to', 'this', 'statement'], ['And', 'if', 'we', 'analyze', 'it', 'properly', 'crude', 'oil', 'coal', 'and', 'gas', 'are', 'the', 'most', 'demanded', 'natural', 'resource', 'still', 'in', 'the', 'world'], ['But', 'it', 's', 'not', 'free', 'and', 'with', 'the', 'latest', 'scenarios', 'in', 'and', 'around', 'the', 'world', 'it', 's', 'better', 'to', 'switch', 'to', 'a', 'more', 'safe', 'efficient', 'and', 'affordable', 'electric', 'vehicle'], ['If', 'we', 'look', 'at', 'the', 'economic', 'aspects', 'of', 'electric', 'vehicles', 'it', 'will', 'surely', 'improve', 'the', 'livelihood', 'of', 'society', 'and', 'in', 'turn', 'the', 'world'], ['EVs', 'are', 'on', 'track', 'to', 'rise', 'to', '20', 'of', 'China', 's', 'total', 'market', 'by', '2025', 'up', 'from', '6', 'in', '2020', 'and', 'to', '37', 'in', 'the', 'EU', 'from', '11', 'last', 'year'], ['In', 'the', 'U', 'S', 'they', 'are', 'forecast', 'to', 'reach', '10', 'by', '2025'], ['India', 'is', 'also', 'not', 'lagging'], ['India', 's', 'EV', 'market', 'is', 'still', 'nascent', 'and', 'is', 'forecast', 'to', 'record', 'a', '2', '4', 'CAGR', 'from', '2020', 'to', '2025'], ['Electrification', 'is', 'expected', 'to', 'penetrate', 'cars', 'and', 'last', 'mile', 'connectivity', 'modes', 'like', 'two', 'wheelers', 'in', 'India', 'by', '2030'], ['It', 'is', 'expected', 'about', '70', 'of', 'two', 'wheeler', 'fleets', 'and', '30', 'of', 'private', 'two', 'wheelers', 'to', 'be', 'electric', 'by', '2030'], ['For', 'passenger', 'vehicles', '40', 'of', 'fleets', 'and', '15', '20', 'of', 'private', 'cars', 'will', 'be', 'electric', 'by', 'that', 'time'], ['There', 'are', 'also', 'different', 'steps', 'taken', 'by', 'the', 'government', 'like', 'tax', 'exemptions', 'schemes', 'like', 'PLI', 'FAME', 'and', 'battery', 'swapping', 'policy'], ['We', 'must', 'also', 'note', 'that', 'it', 'is', 'estimated', 'that', 'around', '10', 'million', 'direct', 'jobs', 'will', 'be', 'created', 'and', 'indirectly', 'almost', '50', 'million', 'jobs', 'will', 'be', 'created', 'around', 'this', 'sector'], ['If', 'we', 'look', 'at', 'the', 'global', 'picture', 'we', 'are', 'also', 'seeing', 'that', 'there', 'is', 'a', 'price', 'parity', 'between', 'battery', 'vehicles', 'and', 'ICE', 'vehicles', 'and', 'with', 'so', 'many', 'advancements', 'in', 'technology', 'we', 'are', 'seeing', 'the', 'prices', 'of', 'batteries', 'coming', 'down', 'with', 'more', 'players', 'getting', 'involved', 'in', 'it', 'with', 'prices', 'estimated', 'to', 'be', 'further', 'down'], ['As', 'a', 'world', 'leader', 'countries', 'like', 'China', 'and', 'the', 'USA', 'are', 'in', 'a', 'race', 'to', 'build', 'more', 'lithium', 'ion', 'batteries', 'so', 'that', 'they', 'are', 'self', 'sufficient', 'and', 'have', 'the', 'capabilities', 'to', 'further', 'rise', 'to', 'the', 'occasion', 'of', 'being', 'a', 'major', 'exporters', 'in', 'the', 'world'], ['The', 'European', 'Union', 'is', 'also', 'not', 'lagging', 'as', 'they', 'are', 'also', 'trying', 'to', 'catch', 'up', 'by', 'producing', 'enough', 'batteries', 'to', 'be', 'self', 'sufficient', 'by', '2025'], ['Crude', 'oils', 'are', 'increasing', 'day', 'by', 'day'], ['We', 'have', 'seen', 'a', 'shortage', 'of', 'gas', 'in', 'European', 'countries', 'mainly', 'due', 'to', 'the', 'Russia', 'Ukraine', 'war', 'and', 'everybody', 'is', 'trying', 'to', 'find', 'an', 'alternative', 'to', 'gas', 'and', 'crude', 'oil', 'as', 'it', 'is', 'harmful', 'and', 'it', 's', 'one', 'of', 'the', 'main', 'reasons', 'why', 'pollution', 'is', 'such', 'a', 'havoc', 'in', 'the', 'world'], ['One', 'of', 'the', 'major', 'problems', 'of', 'Crude', 'oils', 'is', 'oil', 'spilling', 'which', 'is', 'endangering', 'marine', 'species'], ['Air', 'pollution', 'caused', 'due', 'to', 'petrol', 'and', 'diesel', 'vehicles', 'is', 'also', 'affecting', 'our', 'planet', 'and', 'if', 'there', 'is', 'less', 'oil', 'then', 'there', 'is', 'less', 'pollution', 'as', 'alternative', 'drivetrains', 'fuel', 'economy', 'and', 'shared', 'mobility', 'will', 'impact', 'oil', 'demand', 'however', 'nations', 'still', 'won', 't', 'reach', 'net', 'zero', 'by', '2050', 'without', 'doing', 'more'], ['Coal', 'is', 'also', 'a', 'great', 'contributor', 'to', 'this', 'pollution', 'Environmental', 'impacts', 'associated', 'with', 'using', 'coal', 'as', 'an', 'energy', 'source', 'are', 'particulate', 'emission', 'ground', 'level', 'ozone', 'smog', 'and', 'acid', 'rain'], ['Coal', 'and', 'fuel', 'oil', 'combustion', 'emit', 'fly', 'ash', 'particles', 'into', 'the', 'atmosphere', 'which', 'contribute', 'to', 'air', 'pollution', 'problems'], ['Though', 'it', 'is', 'said', 'that', 'prices', 'of', 'crude', 'oil', 'haven', 't', 'peaked', 'yet', 'they', 'will', 'surely', 'peak', 'by', '2040'], ['So', 'we', 'need', 'to', 'foresee', 'the', 'future', 'to', 'have', 'an', 'alternative', 'in', 'society', 'though', 'we', 'still', 'can', 't', 'reach', 'a', 'complete', 'outwash', 'of', 'oil', 'in', '2050', 'we', 'can', 'make', 'sure', 'that', 'other', 'alternatives', 'are', 'ready', 'and', 'self', 'sufficient'], ['Well', 'job', 'opportunities', 'are', 'also', 'a', 'major', 'reason', 'why', 'we', 'should', 'consider', 'EVs', 'as', 'our', 'future'], ['We', 'realize', 'that', 'the', 'max', 'range', 'of', 'an', 'electric', 'vehicle', 'will', 'be', 'around', '350', '390', 'km', 'so', 'people', 'need', 'to', 'stop', 'somewhere', 'to', 'recharge', 'their', 'batteries', 'for', 'at', 'least', '40', '50', 'minutes', 'which', 'can', 'provide', 'a', 'time', 'frame', 'in', 'which', 'people', 'can', 'avail', 'restaurants', 'explore', 'shopping', 'complexes', 'and', 'what', 'not'], ['This', 'will', 'help', 'in', 'generating', 'employment', 'opportunities', 'in', 'hubs', 'like', 'these'], ['There', 'is', 'also', 'a', 'rush', 'in', 'countries', 'like', 'China', 'the', 'USA', 'and', 'the', 'European', 'Union', 'to', 'build', 'charging', 'stations', 'like', 'this', 'which', 'will', 'accelerate', 'the', 'process', 'of', 'EV', 'vehicles'], ['In', 'this', 'fast', 'paced', 'world', 'almost', 'every', 'alternative', 'family', 'is', 'having', 'a', 'car', 'but', 'if', 'public', 'vehicles', 'like', 'buses', 'and', 'trains', 'can', 'be', 'changed', 'into', 'electric', 'vehicles', 'this', 'can', 'boost', 'the', 'economy', 'as', 'a', 'whole', 'by', 'creating', 'greater', 'needs', 'with', 'more', 'opportunities', 'in', 'these', 'sectors', 'such', 'as', 'transportation', 'and', 'communication', 'are', 'very', 'much', 'a', 'building', 'block', 'of', 'today', 's', 'nation', 'building', 'process'], ['However', 'if', 'we', 'are', 'talking', 'about', 'a', 'world', 'that', 'is', 'greener', 'and', 'fitter', 'we', 'must', 'realize', 'and', 'understand', 'that', 'Electric', 'vehicles', 'do', 'have', 'a', 'cost', 'to', 'this', 'planet'], ['There', 'is', 'a', 'huge', 'amount', 'of', 'electric', 'waste', 'which', 'is', 'not', 'so', 'concerning', 'in', 'today', 's', 'world'], ['It', 'might', 'be', 'a', 'concern', 'in', 'the', 'world', 'we', 'are', 'all', 'planning', 'to', 'live', 'in'], ['Electric', 'vehicles', 'and', 'batteries', 'need', 'rare', 'materials', 'which', 'are', 'not', 'easy', 'to', 'find'], ['Electronic', 'waste', 'also', 'known', 'as', 'e', 'waste', 'is', 'any', 'electronic', 'product', 'or', 'product', 'containing', 'electronic', 'components', 'that', 'has', 'reached', 'the', 'end', 'of', 'its', 'usable', 'life', 'cycle'], ['Unbeknownst', 'to', 'many', 'consumers', 'electronics', 'contain', 'toxic', 'substances', 'therefore', 'they', 'must', 'be', 'handled', 'with', 'care', 'when', 'no', 'longer', 'wanted', 'or', 'needed'], ['There', 'are', 'also', 'negative', 'effects', 'on', 'soil', 'When', 'the', 'improper', 'disposal', 'of', 'e', 'waste', 'in', 'regular', 'landfills', 'or', 'in', 'places', 'where', 'it', 'is', 'dumped', 'illegally', 'both', 'heavy', 'metals', 'and', 'flame', 'retardants', 'can', 'seep', 'directly', 'from', 'the', 'e', 'waste', 'into', 'the', 'soil', 'causing', 'contamination', 'of', 'underlying', 'groundwater', 'or', 'contamination', 'of', 'crops', 'that', 'may', 'be', 'planted', 'nearby', 'or', 'in', 'the', 'area', 'in', 'the', 'future'], ['Therefore', 'we', 'must', 'also', 'not', 'only', 'focus', 'on', 'solely', 'electric', 'vehicles', 'but', 'also', 'on', 'other', 'kinds', 'of', 'fuels', 'like', 'green', 'hydrogen', 'fuels', 'like', 'ethanol', 'which', 'can', 'be', 'generated', 'from', 'agricultural', 'waste'], ['Companies', 'play', 'an', 'important', 'part', 'in', 'this', 'change'], ['Rather', 'than', 'making', 'it', 'only', 'electric', 'they', 'should', 'try', 'to', 'make', 'vehicles', 'that', 'are', 'hybrid', 'in', 'nature'], ['They', 'can', 'switch', 'engines', 'so', 'that', 'they', 'are', 'ready', 'to', 'switch', 'from', 'petrol', 'or', 'diesel', 'to', 'green', 'hydrogen', 'and', 'ethanol', 'and', 'also', 'to', 'electric', 'vehicles'], ['The', 'future', 'is', 'now', 'It', 's', 'time', 'to', 'act']]\n"
     ]
    }
   ],
   "source": [
    "tokenized_text = []\n",
    "for i in sent_tokenize(text):\n",
    "    tokens = RegexpTokenizer(r'\\w+').tokenize(i)\n",
    "    tokenized_text.append(tokens)\n",
    "    # print(f'{tokens} :: {len(tokens)}')\n",
    "# tokenized_text = RegexpTokenizer(r'\\w+').tokenize(text)\n",
    "# 'US' in tokenized_text\n",
    "print(tokenized_text)"
   ]
  },
  {
   "cell_type": "code",
   "execution_count": 205,
   "metadata": {
    "scrolled": true
   },
   "outputs": [
    {
     "name": "stdout",
     "output_type": "stream",
     "text": [
      "[['Oil', 'prices', '2040', 'it', 'impact', 'world', 'economy'], ['We', 'interconnected', 'world'], ['change', 'part', 'world', 'lead', 'parts', 'world', 'bit', 'surely', 'change', 'we', 'today', 'world'], ['Electric', 'vehicles', 'change', 'we', 'today', 'world'], ['advancements', 'technology', 'economies', 'bigger'], ['surpass', 'US', 'superpower', 'we', 'inching', '15', 'economy', '2040', 'competition', 'outshine'], ['We', 'paradigm', 'shift', 'multipolar', 'world', 'unipolar', 'world', 'moving', 'clusters', 'world', 'part', 'clusters'], ['rearrangements', 'taking'], ['We', 'creating', 'sustainable', 'life', 'our', 'present', 'our', 'future', 'generations'], ['We', 'witnessed', 'COP26', 'we', 'leaders', 'top', 'countries', 'taking', 'pledges', 'create', 'sustainable', 'future', 'answer', 'lies', 'safer', 'greener', 'planet', 'electric', 'vehicles', 'occupy', 'huge', 'chunk', 'it'], ['Internal', 'combustion', 'engines', 'peaked', 'electric', 'vehicles', 'cheaper', 'cheaper', 'governments', 'actively', 'pushing', 'electric', 'vehicles', 'we', 'joint', 'statement', 'Cop', '26', 'business', 'fleet', 'owners', 'operators', 'shared', 'mobility', 'platforms', 'we', 'work', '100', 'our', 'car', 'fleets', 'emission', 'vehicles', '2030', 'earlier'], ['step', 'future'], ['home', 'number', 'wheelers', 'wheelers', 'constitutes', '70', 'global', '80', 'signatory', 'statement'], ['we', 'analyze', 'it', 'properly', 'crude', 'oil', 'coal', 'gas', 'demanded', 'natural', 'resource', 'world'], ['it', 'latest', 'scenarios', 'world', 'it', 'switch', 'safe', 'efficient', 'affordable', 'electric', 'vehicle'], ['we', 'economic', 'aspects', 'electric', 'vehicles', 'it', 'surely', 'improve', 'livelihood', 'society', 'turn', 'world'], ['EVs', 'track', 'rise', '20', 'total', 'market', '2025', '6', '2020', '37', 'EU', '11'], ['they', 'forecast', 'reach', '10', '2025'], ['lagging'], ['EV', 'market', 'nascent', 'forecast', 'record', '2', '4', 'CAGR', '2020', '2025'], ['Electrification', 'expected', 'penetrate', 'cars', 'mile', 'connectivity', 'modes', 'wheelers', '2030'], ['It', 'expected', '70', 'fleets', '30', 'private', 'wheelers', 'electric', '2030'], ['passenger', 'vehicles', '40', 'fleets', '15', '20', 'private', 'cars', 'electric', 'time'], ['steps', 'government', 'tax', 'exemptions', 'schemes', 'PLI', 'FAME', 'battery', 'swapping', 'policy'], ['We', 'note', 'it', 'estimated', '10', 'direct', 'jobs', 'created', 'indirectly', '50', 'jobs', 'created', 'sector'], ['we', 'global', 'picture', 'we', 'parity', 'battery', 'vehicles', 'ICE', 'vehicles', 'advancements', 'technology', 'we', 'prices', 'batteries', 'coming', 'players', 'involved', 'it', 'prices', 'estimated'], ['world', 'leader', 'countries', 'build', 'lithium', 'ion', 'batteries', 'they', 'sufficient', 'capabilities', 'rise', 'occasion', 'exporters', 'world'], ['Union', 'lagging', 'they', 'catch', 'producing', 'batteries', 'sufficient', '2025'], ['Crude', 'oils', 'increasing'], ['We', 'shortage', 'gas', 'countries', 'due', 'Ukraine', 'war', 'find', 'alternative', 'gas', 'crude', 'oil', 'it', 'harmful', 'it', 'reasons', 'pollution', 'havoc', 'world'], ['problems', 'Crude', 'oils', 'oil', 'spilling', 'endangering', 'species'], ['Air', 'pollution', 'caused', 'due', 'petrol', 'diesel', 'vehicles', 'affecting', 'our', 'planet', 'oil', 'pollution', 'alternative', 'drivetrains', 'fuel', 'economy', 'shared', 'mobility', 'impact', 'oil', 'demand', 'reach', 'net', '2050'], ['Coal', 'great', 'contributor', 'pollution', 'Environmental', 'impacts', 'coal', 'energy', 'source', 'particulate', 'emission', 'ground', 'level', 'ozone', 'smog', 'acid', 'rain'], ['Coal', 'fuel', 'oil', 'combustion', 'emit', 'fly', 'particles', 'atmosphere', 'contribute', 'air', 'pollution', 'problems'], ['it', 'prices', 'crude', 'oil', 'peaked', 'they', 'surely', '2040'], ['we', 'foresee', 'future', 'alternative', 'society', 'we', 'reach', 'complete', 'outwash', 'oil', '2050', 'we', 'make', 'alternatives', 'sufficient'], ['job', 'opportunities', 'reason', 'we', 'EVs', 'our', 'future'], ['We', 'realize', 'electric', 'vehicle', '350', '390', 'km', 'people', 'stop', 'recharge', 'batteries', '40', '50', 'minutes', 'provide', 'time', 'people', 'avail', 'restaurants', 'explore', 'shopping', 'complexes'], ['generating', 'employment', 'opportunities', 'hubs'], ['countries', 'Union', 'build', 'charging', 'stations', 'accelerate', 'process', 'EV', 'vehicles'], ['paced', 'world', 'alternative', 'family', 'car', 'public', 'vehicles', 'buses', 'trains', 'changed', 'electric', 'vehicles', 'boost', 'economy', 'creating', 'greater', 'opportunities', 'sectors', 'transportation', 'communication', 'building', 'today', 'building', 'process'], ['we', 'talking', 'world', 'greener', 'fitter', 'we', 'realize', 'understand', 'Electric', 'vehicles', 'cost', 'planet'], ['huge', 'amount', 'electric', 'waste', 'today', 'world'], ['It', 'concern', 'world', 'we', 'planning', 'live'], ['Electric', 'vehicles', 'batteries', 'rare', 'materials', 'easy', 'find'], ['Electronic', 'waste', 'waste', 'electronic', 'product', 'product', 'electronic', 'components', 'reached', 'end', 'its', 'usable', 'life', 'cycle'], ['Unbeknownst', 'consumers', 'electronics', 'toxic', 'substances', 'they', 'handled', 'care', 'longer', 'wanted', 'needed'], ['negative', 'effects', 'soil', 'improper', 'disposal', 'waste', 'regular', 'landfills', 'places', 'it', 'dumped', 'illegally', 'heavy', 'metals', 'flame', 'retardants', 'seep', 'directly', 'waste', 'soil', 'causing', 'contamination', 'underlying', 'groundwater', 'contamination', 'crops', 'planted', 'nearby', 'area', 'future'], ['we', 'focus', 'solely', 'electric', 'vehicles', 'kinds', 'fuels', 'hydrogen', 'fuels', 'ethanol', 'generated', 'agricultural', 'waste'], ['Companies', 'play', 'important', 'part', 'change'], ['making', 'it', 'electric', 'they', 'make', 'vehicles', 'hybrid', 'nature'], ['They', 'switch', 'engines', 'they', 'switch', 'petrol', 'diesel', 'hydrogen', 'ethanol', 'electric', 'vehicles'], ['future', 'It', 'time', 'act']]\n"
     ]
    }
   ],
   "source": [
    "sw_filtered_text = []\n",
    "for i in tokenized_text: \n",
    "    sw_filtered_sent = []\n",
    "    for j in i:\n",
    "        if j == 'US':\n",
    "            sw_filtered_sent.append(j)\n",
    "            continue\n",
    "        if j.lower() not in sw_all:\n",
    "            sw_filtered_sent.append(j)\n",
    "    sw_filtered_text.append(sw_filtered_sent)\n",
    "# sw_filtered_text = [[j for j in i if j.lower() not in sw_all] for i in tokenized_text]\n",
    "print(sw_filtered_text)\n",
    "# j=0\n",
    "# for i in sw_filtered_text:\n",
    "#     if 'US' in i:\n",
    "#         print(i, j)\n",
    "#         break\n",
    "#     j+=1    "
   ]
  },
  {
   "cell_type": "code",
   "execution_count": 251,
   "metadata": {},
   "outputs": [
    {
     "name": "stdout",
     "output_type": "stream",
     "text": [
      "{'positive': ['lead', 'surpass', 'outshine', 'sustainable', 'top', 'sustainable', 'cheaper', 'cheaper', 'work', 'properly', 'safe', 'efficient', 'affordable', 'improve', 'FAME', 'sufficient', 'sufficient', 'great', 'sufficient', 'boost', 'easy', 'usable', 'important'], 'negative': ['unipolar', 'lies', 'crude', 'lagging', 'lagging', 'Crude', 'shortage', 'crude', 'harmful', 'havoc', 'problems', 'Crude', 'spilling', 'problems', 'crude', 'waste', 'concern', 'waste', 'waste', 'toxic', 'negative', 'improper', 'waste', 'dumped', 'illegally', 'waste', 'contamination', 'contamination', 'waste']}\n",
      "\n",
      "sentences:  53\n",
      "\n",
      "words  589\n",
      "\n",
      "letters:  3579\n",
      "\n",
      "syllables:  1133\n",
      "\n",
      "pesonal-pronouns:  57\n",
      "\n",
      "complex-words:  175\n"
     ]
    }
   ],
   "source": [
    "sentiment_words = {'positive':[], 'negative': []}\n",
    "sent_count, word_count, char_count, pron_count, syll_count, comp_count = 0, 0, 0, 0, 0, 0\n",
    "for sent in sw_filtered_text:\n",
    "    sent_count += 1\n",
    "    for word in sent:\n",
    "        word_count += 1\n",
    "        char_count += len(word)\n",
    "        syll_count += sp.count(word)\n",
    "        if word.lower() in positive_words:\n",
    "            sentiment_words['positive'].append(word)\n",
    "        if word.lower() in negative_words:\n",
    "            sentiment_words['negative'].append(word)\n",
    "        if word.lower() in pw_all:\n",
    "            pron_count += 1\n",
    "        if sp.count(word) > 2:\n",
    "            comp_count += 1\n",
    "print(sentiment_words)\n",
    "print()\n",
    "print ('sentences: ', sent_count)\n",
    "print()\n",
    "print('words ', word_count)\n",
    "print()\n",
    "print('letters: ', char_count)\n",
    "print()\n",
    "print('syllables: ', syll_count)\n",
    "print()\n",
    "print('pesonal-pronouns: ', pron_count)\n",
    "print()\n",
    "print('complex-words: ', comp_count)"
   ]
  },
  {
   "cell_type": "code",
   "execution_count": 213,
   "metadata": {},
   "outputs": [
    {
     "data": {
      "text/plain": [
       "{'envious', 'enviously', 'enviousness'}"
      ]
     },
     "execution_count": 213,
     "metadata": {},
     "output_type": "execute_result"
    }
   ],
   "source": [
    "set(positive_words).intersection(set(negative_words))"
   ]
  },
  {
   "cell_type": "code",
   "execution_count": 243,
   "metadata": {},
   "outputs": [
    {
     "name": "stdin",
     "output_type": "stream",
     "text": [
      "Word:  loved\n"
     ]
    },
    {
     "name": "stdout",
     "output_type": "stream",
     "text": [
      "1\n",
      "2\n"
     ]
    }
   ],
   "source": [
    "import syllapy\n",
    "import pyphen\n",
    "\n",
    "word = input(\"Word: \")\n",
    "\n",
    "print(syllapy.count(word))\n",
    "print(len(pyphen.Pyphen(lang='nl_NL').inserted(word).split('-')))"
   ]
  },
  {
   "cell_type": "code",
   "execution_count": 242,
   "metadata": {},
   "outputs": [
    {
     "data": {
      "text/plain": [
       "'pas-sed'"
      ]
     },
     "execution_count": 242,
     "metadata": {},
     "output_type": "execute_result"
    }
   ],
   "source": [
    "pyphen.Pyphen(lang='nl_NL').inserted('passed')"
   ]
  },
  {
   "cell_type": "code",
   "execution_count": 223,
   "metadata": {},
   "outputs": [
    {
     "data": {
      "text/plain": [
       "{'POSITIVE SCORE': 0,\n",
       " 'NEGATIVE SCORE': 0,\n",
       " 'POLARITY SCORE': 0,\n",
       " 'SUBJECTIVITY SCORE': 0,\n",
       " 'AVG SENTENCE LENGTH': 0,\n",
       " 'PERCENTAGE OF COMPLEX WORDS': 0,\n",
       " 'FOG INDEX': 0,\n",
       " 'AVG NUMBER OF WORDS PER SENTENCE': 0,\n",
       " 'COMPLEX WORD COUNT': 0,\n",
       " 'WORD COUNT': 0,\n",
       " 'SYLLABLE PER WORD': 0,\n",
       " 'PERSONAL PRONOUNS': 0,\n",
       " 'AVG WORD LENGTH': 0}"
      ]
     },
     "execution_count": 223,
     "metadata": {},
     "output_type": "execute_result"
    }
   ],
   "source": [
    "dfo = pd.read_excel('../Output Data Structure.xlsx')\n",
    "scores = {i:0 for i in dfo.columns[2:]}\n",
    "# dfo\n",
    "scores"
   ]
  },
  {
   "cell_type": "code",
   "execution_count": 253,
   "metadata": {},
   "outputs": [
    {
     "data": {
      "text/plain": [
       "dict_keys(['POSITIVE SCORE', 'NEGATIVE SCORE', 'POLARITY SCORE', 'SUBJECTIVITY SCORE', 'AVG SENTENCE LENGTH', 'PERCENTAGE OF COMPLEX WORDS', 'FOG INDEX', 'AVG NUMBER OF WORDS PER SENTENCE', 'COMPLEX WORD COUNT', 'WORD COUNT', 'SYLLABLE PER WORD', 'PERSONAL PRONOUNS', 'AVG WORD LENGTH'])"
      ]
     },
     "execution_count": 253,
     "metadata": {},
     "output_type": "execute_result"
    }
   ],
   "source": [
    "scores['POSITIVE SCORE'] = len(sentiment_words['positive'])\n",
    "scores['NEGATIVE SCORE'] = len(sentiment_words['negative'])\n",
    "scores['POLARITY SCORE'] = (scores['POSITIVE SCORE'] - scores['NEGATIVE SCORE'])/ ((scores['POSITIVE SCORE'] + scores['NEGATIVE SCORE']) + 0.000001)\n",
    "scores['SUBJECTIVITY SCORE'] = (scores['POSITIVE SCORE'] + scores['NEGATIVE SCORE'])/ ((word_count) + 0.000001)\n",
    "scores['AVG SENTENCE LENGTH'] = word_count / sent_count\n",
    "scores['PERCENTAGE OF COMPLEX WORDS'] = comp_count / word_count\n",
    "scores['FOG INDEX'] = 0.4 * (scores['AVG SENTENCE LENGTH'] + scores['PERCENTAGE OF COMPLEX WORDS'])\n",
    "scores['AVG NUMBER OF WORDS PER SENTENCE'] = scores['AVG SENTENCE LENGTH']\n",
    "scores['COMPLEX WORD COUNT'] = comp_count\n",
    "scores['WORD COUNT'] = word_count\n",
    "scores['SYLLABLE PER WORD'] = syll_count / word_count\n",
    "scores['PERSONAL PRONOUNS'] = pron_count\n",
    "scores['AVG WORD LENGTH'] = char_count / word_count\n",
    "scores.keys()"
   ]
  },
  {
   "cell_type": "code",
   "execution_count": 230,
   "metadata": {},
   "outputs": [
    {
     "data": {
      "text/plain": [
       "0.08828522905214732"
      ]
     },
     "execution_count": 230,
     "metadata": {},
     "output_type": "execute_result"
    }
   ],
   "source": [
    "scores['AVG SENTENCE LENGTH'] = word_count / sent_count\n",
    "scores['PERCENTAGE OF COMPLEX WORDS'] = comp_count / word_count\n",
    "scores['FOG INDEX'] = 0.4 * (scores['AVG SENTENCE LENGTH'] + scores['PERCENTAGE OF COMPLEX WORDS'])"
   ]
  },
  {
   "cell_type": "code",
   "execution_count": 278,
   "metadata": {},
   "outputs": [
    {
     "data": {
      "text/html": [
       "<div>\n",
       "<style scoped>\n",
       "    .dataframe tbody tr th:only-of-type {\n",
       "        vertical-align: middle;\n",
       "    }\n",
       "\n",
       "    .dataframe tbody tr th {\n",
       "        vertical-align: top;\n",
       "    }\n",
       "\n",
       "    .dataframe thead th {\n",
       "        text-align: right;\n",
       "    }\n",
       "</style>\n",
       "<table border=\"1\" class=\"dataframe\">\n",
       "  <thead>\n",
       "    <tr style=\"text-align: right;\">\n",
       "      <th></th>\n",
       "      <th>URL_ID</th>\n",
       "      <th>URL</th>\n",
       "      <th>POSITIVE SCORE</th>\n",
       "      <th>NEGATIVE SCORE</th>\n",
       "      <th>POLARITY SCORE</th>\n",
       "      <th>SUBJECTIVITY SCORE</th>\n",
       "      <th>AVG SENTENCE LENGTH</th>\n",
       "      <th>PERCENTAGE OF COMPLEX WORDS</th>\n",
       "      <th>FOG INDEX</th>\n",
       "      <th>AVG NUMBER OF WORDS PER SENTENCE</th>\n",
       "      <th>COMPLEX WORD COUNT</th>\n",
       "      <th>WORD COUNT</th>\n",
       "      <th>SYLLABLE PER WORD</th>\n",
       "      <th>PERSONAL PRONOUNS</th>\n",
       "      <th>AVG WORD LENGTH</th>\n",
       "    </tr>\n",
       "  </thead>\n",
       "  <tbody>\n",
       "    <tr>\n",
       "      <th>0</th>\n",
       "      <td>123.0</td>\n",
       "      <td>https://insights.blackcoffer.com/rise-of-telem...</td>\n",
       "      <td>NaN</td>\n",
       "      <td>NaN</td>\n",
       "      <td>NaN</td>\n",
       "      <td>NaN</td>\n",
       "      <td>NaN</td>\n",
       "      <td>NaN</td>\n",
       "      <td>NaN</td>\n",
       "      <td>NaN</td>\n",
       "      <td>NaN</td>\n",
       "      <td>NaN</td>\n",
       "      <td>NaN</td>\n",
       "      <td>NaN</td>\n",
       "      <td>NaN</td>\n",
       "    </tr>\n",
       "    <tr>\n",
       "      <th>1</th>\n",
       "      <td>321.0</td>\n",
       "      <td>https://insights.blackcoffer.com/rise-of-e-hea...</td>\n",
       "      <td>NaN</td>\n",
       "      <td>NaN</td>\n",
       "      <td>NaN</td>\n",
       "      <td>NaN</td>\n",
       "      <td>NaN</td>\n",
       "      <td>NaN</td>\n",
       "      <td>NaN</td>\n",
       "      <td>NaN</td>\n",
       "      <td>NaN</td>\n",
       "      <td>NaN</td>\n",
       "      <td>NaN</td>\n",
       "      <td>NaN</td>\n",
       "      <td>NaN</td>\n",
       "    </tr>\n",
       "    <tr>\n",
       "      <th>2</th>\n",
       "      <td>2345.0</td>\n",
       "      <td>https://insights.blackcoffer.com/rise-of-e-hea...</td>\n",
       "      <td>NaN</td>\n",
       "      <td>NaN</td>\n",
       "      <td>NaN</td>\n",
       "      <td>NaN</td>\n",
       "      <td>NaN</td>\n",
       "      <td>NaN</td>\n",
       "      <td>NaN</td>\n",
       "      <td>NaN</td>\n",
       "      <td>NaN</td>\n",
       "      <td>NaN</td>\n",
       "      <td>NaN</td>\n",
       "      <td>NaN</td>\n",
       "      <td>NaN</td>\n",
       "    </tr>\n",
       "    <tr>\n",
       "      <th>3</th>\n",
       "      <td>4321.0</td>\n",
       "      <td>https://insights.blackcoffer.com/rise-of-telem...</td>\n",
       "      <td>NaN</td>\n",
       "      <td>NaN</td>\n",
       "      <td>NaN</td>\n",
       "      <td>NaN</td>\n",
       "      <td>NaN</td>\n",
       "      <td>NaN</td>\n",
       "      <td>NaN</td>\n",
       "      <td>NaN</td>\n",
       "      <td>NaN</td>\n",
       "      <td>NaN</td>\n",
       "      <td>NaN</td>\n",
       "      <td>NaN</td>\n",
       "      <td>NaN</td>\n",
       "    </tr>\n",
       "    <tr>\n",
       "      <th>4</th>\n",
       "      <td>432.0</td>\n",
       "      <td>https://insights.blackcoffer.com/rise-of-telem...</td>\n",
       "      <td>NaN</td>\n",
       "      <td>NaN</td>\n",
       "      <td>NaN</td>\n",
       "      <td>NaN</td>\n",
       "      <td>NaN</td>\n",
       "      <td>NaN</td>\n",
       "      <td>NaN</td>\n",
       "      <td>NaN</td>\n",
       "      <td>NaN</td>\n",
       "      <td>NaN</td>\n",
       "      <td>NaN</td>\n",
       "      <td>NaN</td>\n",
       "      <td>NaN</td>\n",
       "    </tr>\n",
       "    <tr>\n",
       "      <th>...</th>\n",
       "      <td>...</td>\n",
       "      <td>...</td>\n",
       "      <td>...</td>\n",
       "      <td>...</td>\n",
       "      <td>...</td>\n",
       "      <td>...</td>\n",
       "      <td>...</td>\n",
       "      <td>...</td>\n",
       "      <td>...</td>\n",
       "      <td>...</td>\n",
       "      <td>...</td>\n",
       "      <td>...</td>\n",
       "      <td>...</td>\n",
       "      <td>...</td>\n",
       "      <td>...</td>\n",
       "    </tr>\n",
       "    <tr>\n",
       "      <th>109</th>\n",
       "      <td>50921.0</td>\n",
       "      <td>https://insights.blackcoffer.com/coronavirus-i...</td>\n",
       "      <td>NaN</td>\n",
       "      <td>NaN</td>\n",
       "      <td>NaN</td>\n",
       "      <td>NaN</td>\n",
       "      <td>NaN</td>\n",
       "      <td>NaN</td>\n",
       "      <td>NaN</td>\n",
       "      <td>NaN</td>\n",
       "      <td>NaN</td>\n",
       "      <td>NaN</td>\n",
       "      <td>NaN</td>\n",
       "      <td>NaN</td>\n",
       "      <td>NaN</td>\n",
       "    </tr>\n",
       "    <tr>\n",
       "      <th>110</th>\n",
       "      <td>51382.8</td>\n",
       "      <td>https://insights.blackcoffer.com/coronavirus-i...</td>\n",
       "      <td>NaN</td>\n",
       "      <td>NaN</td>\n",
       "      <td>NaN</td>\n",
       "      <td>NaN</td>\n",
       "      <td>NaN</td>\n",
       "      <td>NaN</td>\n",
       "      <td>NaN</td>\n",
       "      <td>NaN</td>\n",
       "      <td>NaN</td>\n",
       "      <td>NaN</td>\n",
       "      <td>NaN</td>\n",
       "      <td>NaN</td>\n",
       "      <td>NaN</td>\n",
       "    </tr>\n",
       "    <tr>\n",
       "      <th>111</th>\n",
       "      <td>51844.6</td>\n",
       "      <td>https://insights.blackcoffer.com/what-are-the-...</td>\n",
       "      <td>NaN</td>\n",
       "      <td>NaN</td>\n",
       "      <td>NaN</td>\n",
       "      <td>NaN</td>\n",
       "      <td>NaN</td>\n",
       "      <td>NaN</td>\n",
       "      <td>NaN</td>\n",
       "      <td>NaN</td>\n",
       "      <td>NaN</td>\n",
       "      <td>NaN</td>\n",
       "      <td>NaN</td>\n",
       "      <td>NaN</td>\n",
       "      <td>NaN</td>\n",
       "    </tr>\n",
       "    <tr>\n",
       "      <th>112</th>\n",
       "      <td>52306.4</td>\n",
       "      <td>https://insights.blackcoffer.com/marketing-dri...</td>\n",
       "      <td>NaN</td>\n",
       "      <td>NaN</td>\n",
       "      <td>NaN</td>\n",
       "      <td>NaN</td>\n",
       "      <td>NaN</td>\n",
       "      <td>NaN</td>\n",
       "      <td>NaN</td>\n",
       "      <td>NaN</td>\n",
       "      <td>NaN</td>\n",
       "      <td>NaN</td>\n",
       "      <td>NaN</td>\n",
       "      <td>NaN</td>\n",
       "      <td>NaN</td>\n",
       "    </tr>\n",
       "    <tr>\n",
       "      <th>113</th>\n",
       "      <td>52768.2</td>\n",
       "      <td>https://insights.blackcoffer.com/continued-dem...</td>\n",
       "      <td>NaN</td>\n",
       "      <td>NaN</td>\n",
       "      <td>NaN</td>\n",
       "      <td>NaN</td>\n",
       "      <td>NaN</td>\n",
       "      <td>NaN</td>\n",
       "      <td>NaN</td>\n",
       "      <td>NaN</td>\n",
       "      <td>NaN</td>\n",
       "      <td>NaN</td>\n",
       "      <td>NaN</td>\n",
       "      <td>NaN</td>\n",
       "      <td>NaN</td>\n",
       "    </tr>\n",
       "  </tbody>\n",
       "</table>\n",
       "<p>114 rows × 15 columns</p>\n",
       "</div>"
      ],
      "text/plain": [
       "      URL_ID                                                URL  \\\n",
       "0      123.0  https://insights.blackcoffer.com/rise-of-telem...   \n",
       "1      321.0  https://insights.blackcoffer.com/rise-of-e-hea...   \n",
       "2     2345.0  https://insights.blackcoffer.com/rise-of-e-hea...   \n",
       "3     4321.0  https://insights.blackcoffer.com/rise-of-telem...   \n",
       "4      432.0  https://insights.blackcoffer.com/rise-of-telem...   \n",
       "..       ...                                                ...   \n",
       "109  50921.0  https://insights.blackcoffer.com/coronavirus-i...   \n",
       "110  51382.8  https://insights.blackcoffer.com/coronavirus-i...   \n",
       "111  51844.6  https://insights.blackcoffer.com/what-are-the-...   \n",
       "112  52306.4  https://insights.blackcoffer.com/marketing-dri...   \n",
       "113  52768.2  https://insights.blackcoffer.com/continued-dem...   \n",
       "\n",
       "     POSITIVE SCORE  NEGATIVE SCORE  POLARITY SCORE  SUBJECTIVITY SCORE  \\\n",
       "0               NaN             NaN             NaN                 NaN   \n",
       "1               NaN             NaN             NaN                 NaN   \n",
       "2               NaN             NaN             NaN                 NaN   \n",
       "3               NaN             NaN             NaN                 NaN   \n",
       "4               NaN             NaN             NaN                 NaN   \n",
       "..              ...             ...             ...                 ...   \n",
       "109             NaN             NaN             NaN                 NaN   \n",
       "110             NaN             NaN             NaN                 NaN   \n",
       "111             NaN             NaN             NaN                 NaN   \n",
       "112             NaN             NaN             NaN                 NaN   \n",
       "113             NaN             NaN             NaN                 NaN   \n",
       "\n",
       "     AVG SENTENCE LENGTH  PERCENTAGE OF COMPLEX WORDS  FOG INDEX  \\\n",
       "0                    NaN                          NaN        NaN   \n",
       "1                    NaN                          NaN        NaN   \n",
       "2                    NaN                          NaN        NaN   \n",
       "3                    NaN                          NaN        NaN   \n",
       "4                    NaN                          NaN        NaN   \n",
       "..                   ...                          ...        ...   \n",
       "109                  NaN                          NaN        NaN   \n",
       "110                  NaN                          NaN        NaN   \n",
       "111                  NaN                          NaN        NaN   \n",
       "112                  NaN                          NaN        NaN   \n",
       "113                  NaN                          NaN        NaN   \n",
       "\n",
       "     AVG NUMBER OF WORDS PER SENTENCE  COMPLEX WORD COUNT  WORD COUNT  \\\n",
       "0                                 NaN                 NaN         NaN   \n",
       "1                                 NaN                 NaN         NaN   \n",
       "2                                 NaN                 NaN         NaN   \n",
       "3                                 NaN                 NaN         NaN   \n",
       "4                                 NaN                 NaN         NaN   \n",
       "..                                ...                 ...         ...   \n",
       "109                               NaN                 NaN         NaN   \n",
       "110                               NaN                 NaN         NaN   \n",
       "111                               NaN                 NaN         NaN   \n",
       "112                               NaN                 NaN         NaN   \n",
       "113                               NaN                 NaN         NaN   \n",
       "\n",
       "     SYLLABLE PER WORD  PERSONAL PRONOUNS  AVG WORD LENGTH  \n",
       "0                  NaN                NaN              NaN  \n",
       "1                  NaN                NaN              NaN  \n",
       "2                  NaN                NaN              NaN  \n",
       "3                  NaN                NaN              NaN  \n",
       "4                  NaN                NaN              NaN  \n",
       "..                 ...                ...              ...  \n",
       "109                NaN                NaN              NaN  \n",
       "110                NaN                NaN              NaN  \n",
       "111                NaN                NaN              NaN  \n",
       "112                NaN                NaN              NaN  \n",
       "113                NaN                NaN              NaN  \n",
       "\n",
       "[114 rows x 15 columns]"
      ]
     },
     "execution_count": 278,
     "metadata": {},
     "output_type": "execute_result"
    }
   ],
   "source": [
    "dfo"
   ]
  },
  {
   "cell_type": "code",
   "execution_count": null,
   "metadata": {},
   "outputs": [],
   "source": []
  }
 ],
 "metadata": {
  "kernelspec": {
   "display_name": "Python 3 (ipykernel)",
   "language": "python",
   "name": "python3"
  },
  "language_info": {
   "codemirror_mode": {
    "name": "ipython",
    "version": 3
   },
   "file_extension": ".py",
   "mimetype": "text/x-python",
   "name": "python",
   "nbconvert_exporter": "python",
   "pygments_lexer": "ipython3",
   "version": "3.10.12"
  }
 },
 "nbformat": 4,
 "nbformat_minor": 4
}
